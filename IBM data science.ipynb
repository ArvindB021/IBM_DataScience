{
 "cells": [
  {
   "attachments": {},
   "cell_type": "markdown",
   "metadata": {},
   "source": [
    "IBM DS jupyter "
   ]
  },
  {
   "attachments": {},
   "cell_type": "markdown",
   "metadata": {},
   "source": [
    "Let us summarize the data science tools"
   ]
  },
  {
   "attachments": {},
   "cell_type": "markdown",
   "metadata": {},
   "source": [
    "Objectives :\n",
    "\n",
    "1. List popular languages used in Data Science\n",
    "2. List data science libraries and tools\n",
    "3. Learn about arithmetic expressions"
   ]
  },
  {
   "attachments": {},
   "cell_type": "markdown",
   "metadata": {},
   "source": [
    "Few data science languages are Python, R, Java, Scala"
   ]
  },
  {
   "attachments": {},
   "cell_type": "markdown",
   "metadata": {},
   "source": [
    "List of data science libraries are numpy, pandas, matplotlib"
   ]
  },
  {
   "attachments": {},
   "cell_type": "markdown",
   "metadata": {},
   "source": [
    "Data Science Tools:\n",
    "\n",
    "|Data Science Tools|\n",
    "|----|\n",
    "|SAS|\n",
    "|Apache SPark|\n",
    "|bigML|"
   ]
  },
  {
   "attachments": {},
   "cell_type": "markdown",
   "metadata": {},
   "source": []
  },
  {
   "cell_type": "markdown",
   "metadata": {},
   "source": [
    "Arithmetic Expressions :\n",
    "\n",
    "Some of the popular arithmetic expressions are Addition (+), Subtraction (-), Multiplication (*), Division(/)\n",
    "\n",
    "In an arithmetic expression, there are 2 terms operators and operands. Operands are the value in which we act on and operantors are the symbols that denote the operation between the operand(s).\n",
    "\n",
    "Eg : 5+6\n",
    "\n",
    "Here 5 and 6 are the operands and + is the operator indicating the operation that should be performed, in this case addition."
   ]
  },
  {
   "cell_type": "code",
   "execution_count": 2,
   "metadata": {},
   "outputs": [
    {
     "data": {
      "text/plain": [
       "33"
      ]
     },
     "execution_count": 2,
     "metadata": {},
     "output_type": "execute_result"
    }
   ],
   "source": [
    "5*6+3"
   ]
  },
  {
   "cell_type": "code",
   "execution_count": 3,
   "metadata": {},
   "outputs": [
    {
     "name": "stdout",
     "output_type": "stream",
     "text": [
      "Hours : 1\tMinutes : 40\n"
     ]
    }
   ],
   "source": [
    "time = 100 #The time is in minutes\n",
    "time_in_hours = time//60\n",
    "time_in_minutes = time - (time_in_hours*60)\n",
    "print('Hours : {}\\tMinutes : {}'.format(time_in_hours,time_in_minutes))"
   ]
  },
  {
   "attachments": {},
   "cell_type": "markdown",
   "metadata": {},
   "source": [
    "This notebook is created by Arvind B"
   ]
  }
 ],
 "metadata": {
  "kernelspec": {
   "display_name": "base",
   "language": "python",
   "name": "python3"
  },
  "language_info": {
   "codemirror_mode": {
    "name": "ipython",
    "version": 3
   },
   "file_extension": ".py",
   "mimetype": "text/x-python",
   "name": "python",
   "nbconvert_exporter": "python",
   "pygments_lexer": "ipython3",
   "version": "3.10.9"
  },
  "orig_nbformat": 4
 },
 "nbformat": 4,
 "nbformat_minor": 2
}
